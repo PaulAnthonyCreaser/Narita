{
  "nbformat": 4,
  "nbformat_minor": 0,
  "metadata": {
    "colab": {
      "name": "Logitec_DimReduction.ipynb",
      "version": "0.3.2",
      "provenance": [],
      "collapsed_sections": [],
      "include_colab_link": true
    },
    "kernelspec": {
      "name": "python3",
      "display_name": "Python 3"
    }
  },
  "cells": [
    {
      "cell_type": "markdown",
      "metadata": {
        "id": "view-in-github",
        "colab_type": "text"
      },
      "source": [
        "<a href=\"https://colab.research.google.com/github/PaulAnthonyCreaser/Narita/blob/time/Logitec_DimReduction.ipynb\" target=\"_parent\"><img src=\"https://colab.research.google.com/assets/colab-badge.svg\" alt=\"Open In Colab\"/></a>"
      ]
    },
    {
      "metadata": {
        "id": "2i5Lb15xta75",
        "colab_type": "code",
        "colab": {
          "base_uri": "https://localhost:8080/",
          "height": 295
        },
        "outputId": "7d85d7a8-a9cc-4204-e1ca-b299eaea2b62"
      },
      "cell_type": "code",
      "source": [
        "!pip install pandas\n",
        "!pip install scipy"
      ],
      "execution_count": 7,
      "outputs": [
        {
          "output_type": "stream",
          "text": [
            "Requirement already satisfied: pandas in /usr/local/lib/python3.6/dist-packages (0.23.4)\n",
            "Requirement already satisfied: pytz>=2011k in /usr/local/lib/python3.6/dist-packages (from pandas) (2018.9)\n",
            "Requirement already satisfied: python-dateutil>=2.5.0 in /usr/local/lib/python3.6/dist-packages (from pandas) (2.5.3)\n",
            "Requirement already satisfied: numpy>=1.9.0 in /usr/local/lib/python3.6/dist-packages (from pandas) (1.16.2)\n",
            "Requirement already satisfied: six>=1.5 in /usr/local/lib/python3.6/dist-packages (from python-dateutil>=2.5.0->pandas) (1.11.0)\n",
            "Requirement already satisfied: scipy in /usr/local/lib/python3.6/dist-packages (1.2.1)\n",
            "Requirement already satisfied: numpy>=1.8.2 in /usr/local/lib/python3.6/dist-packages (from scipy) (1.16.2)\n"
          ],
          "name": "stdout"
        }
      ]
    },
    {
      "metadata": {
        "id": "WJq5IfiVt3Ph",
        "colab_type": "code",
        "colab": {}
      },
      "cell_type": "code",
      "source": [
        "%matplotlib inline\n",
        "import matplotlib.pyplot as plt\n",
        "import pandas as pd\n",
        "import codecs\n",
        "import os\n",
        "\n",
        "pathString1  = \"MTF0000-DB673490A7132922.csv\"\n",
        "pathString2  = \"MTF0001-DB6754A7C31C2A33.csv\"\n",
        "\n",
        "pathString3  = \"MTF0000-DB673490A7212922.csv\"\n",
        "pathString4  = \"MTF0001-DB6754A7C32C2833.csv\"\n",
        "\n",
        "pathString5  = \"MTF0000-DB673490A7222922.csv\"\n",
        "pathString6  = \"MTF0001-DB6754A7C3362833.csv\"\n",
        "\n",
        "pathString7  = \"MTF0000-DB673490A7242922.csv\"\n",
        "pathString8  = \"MTF0002-DB6778C65B25272B.csv\"\n",
        "\n",
        "pathString9  = \"MTF0000-DB673490A72B2B22.csv\"\n",
        "\n",
        "path1 = pathString1\n",
        "path2 = pathString2\n",
        "path3 = pathString3\n",
        "path4 = pathString4\n",
        "path5 = pathString5\n",
        "path6 = pathString6\n",
        "path7 = pathString7\n",
        "path8 = pathString8\n",
        "path9 = pathString9\n",
        "\n",
        "log1_orig = pd.read_csv(path1, encoding='utf-8', index_col=False)\n",
        "log2_orig = pd.read_csv(path2, encoding='utf-8', index_col=False)\n",
        "log3_orig = pd.read_csv(path3, encoding='utf-8', index_col=False)\n",
        "log4_orig = pd.read_csv(path4, encoding='utf-8', index_col=False)\n",
        "log5_orig = pd.read_csv(path5, encoding='utf-8', index_col=False)\n",
        "log6_orig = pd.read_csv(path6, encoding='utf-8', index_col=False)\n",
        "log7_orig = pd.read_csv(path7, encoding='utf-8', index_col=False)\n",
        "log8_orig = pd.read_csv(path8, encoding='utf-8', index_col=False)\n",
        "log9_orig = pd.read_csv(path9, encoding='utf-8', index_col=False)\n",
        "\n",
        "\n",
        "# Drop Time\n",
        "log1 = log1_orig.drop(['日時','計測期間', '部品.稼働時間.システム', '部品.稼働時間.MA','部品.稼働時間.MB/CPU','センサ.予備10'], axis=1)\n",
        "log2 = log2_orig.drop(['日時','計測期間', '部品.稼働時間.システム', '部品.稼働時間.MA','部品.稼働時間.MB/CPU','センサ.予備10'], axis=1)\n",
        "log3 = log3_orig.drop(['日時','計測期間', '部品.稼働時間.システム', '部品.稼働時間.MA','部品.稼働時間.MB/CPU','センサ.予備10'], axis=1)\n",
        "log4 = log4_orig.drop(['日時','計測期間', '部品.稼働時間.システム', '部品.稼働時間.MA','部品.稼働時間.MB/CPU','センサ.予備10'], axis=1)\n",
        "log5 = log5_orig.drop(['日時','計測期間', '部品.稼働時間.システム', '部品.稼働時間.MA','部品.稼働時間.MB/CPU','センサ.予備10'], axis=1)\n",
        "log6 = log6_orig.drop(['日時','計測期間', '部品.稼働時間.システム', '部品.稼働時間.MA','部品.稼働時間.MB/CPU','センサ.予備10'], axis=1)\n",
        "log7 = log7_orig.drop(['日時','計測期間', '部品.稼働時間.システム', '部品.稼働時間.MA','部品.稼働時間.MB/CPU','センサ.予備10'], axis=1)\n",
        "log8 = log8_orig.drop(['日時','計測期間', '部品.稼働時間.システム', '部品.稼働時間.MA','部品.稼働時間.MB/CPU','センサ.予備10'], axis=1)\n",
        "log9 = log9_orig.drop(['日時','計測期間', '部品.稼働時間.システム', '部品.稼働時間.MA','部品.稼働時間.MB/CPU','センサ.予備10'], axis=1)\n",
        "\n",
        "\n",
        "log1 = log1.dropna()\n",
        "log2 = log2.dropna()\n",
        "log3 = log3.dropna()\n",
        "log4 = log4.dropna()\n",
        "log5 = log5.dropna()\n",
        "log6 = log6.dropna()\n",
        "log7 = log7.dropna()\n",
        "log8 = log8.dropna()\n",
        "log9 = log9.dropna()\n",
        "\n",
        "\n",
        "\n",
        "            "
      ],
      "execution_count": 0,
      "outputs": []
    },
    {
      "metadata": {
        "id": "1nOpjkDlu8mE",
        "colab_type": "code",
        "colab": {}
      },
      "cell_type": "code",
      "source": [
        "def calc_stddev( dataFrame):\n",
        "    data_stddev = []\n",
        "    for col in dataFrame.columns.values:\n",
        "        data_stddev.append( dataFrame[col].std() )\n",
        "    return data_stddev\n",
        "\n",
        "def calc_avg( dataFrame):\n",
        "    data_stddev = []\n",
        "    for col in dataFrame.columns.values:\n",
        "        data_stddev.append( dataFrame[col].mean() )\n",
        "    return data_stddev\n",
        "\n",
        "log1_std = calc_stddev( log1)\n",
        "log1_avg = calc_avg(    log1 )\n",
        "\n",
        "log2_std = calc_stddev( log2 )\n",
        "log2_avg = calc_avg(    log2 )\n",
        "\n",
        "log3_std = calc_stddev( log3 )\n",
        "log3_avg = calc_avg(    log3 )\n",
        "\n",
        "log4_std = calc_stddev( log4 )\n",
        "log4_avg = calc_avg(    log4 )\n",
        "\n",
        "log5_std = calc_stddev( log5 )\n",
        "log5_avg = calc_avg(    log5 )\n",
        "\n",
        "log6_std = calc_stddev( log6 )\n",
        "log6_avg = calc_avg(    log6 )\n",
        "\n",
        "log7_std = calc_stddev( log7 )\n",
        "log7_avg = calc_avg(    log7 )\n",
        "\n",
        "log8_std = calc_stddev( log8 )\n",
        "log8_avg = calc_avg(    log8 )\n",
        "\n",
        "log9_std = calc_stddev( log9 )\n",
        "log9_avg = calc_avg(    log9 )"
      ],
      "execution_count": 0,
      "outputs": []
    },
    {
      "metadata": {
        "id": "uZaqpyF2vFjn",
        "colab_type": "code",
        "colab": {
          "base_uri": "https://localhost:8080/",
          "height": 1099
        },
        "outputId": "ba22ea8b-3b08-4874-e55c-f99ae9f255f6"
      },
      "cell_type": "code",
      "source": [
        "# Graphs of data\n",
        "\n",
        "plt.figure(1)\n",
        "plt.subplot(221)\n",
        "plt.plot( log1_std) \n",
        "plt.subplot(222)\n",
        "plt.plot( log1_avg) \n",
        "\n",
        "plt.figure(2)\n",
        "plt.subplot(221)\n",
        "plt.plot( log2_std) \n",
        "plt.subplot(222)\n",
        "plt.plot( log2_avg) \n",
        "\n",
        "plt.figure(3)\n",
        "plt.subplot(221)\n",
        "plt.plot( log3_std) \n",
        "plt.subplot(222)\n",
        "plt.plot( log3_avg)\n",
        "\n",
        "plt.figure(4)\n",
        "plt.subplot(221)\n",
        "plt.plot( log4_std) \n",
        "plt.subplot(222)\n",
        "plt.plot( log4_avg)\n",
        "\n",
        "plt.figure(5)\n",
        "plt.subplot(221)\n",
        "plt.plot( log5_std) \n",
        "plt.subplot(222)\n",
        "plt.plot( log5_avg)\n",
        "\n",
        "plt.figure(6)\n",
        "plt.subplot(221)\n",
        "plt.plot( log6_std) \n",
        "plt.subplot(222)\n",
        "plt.plot( log6_avg)\n",
        "\n",
        "plt.figure(7)\n",
        "plt.subplot(221)\n",
        "plt.plot( log7_std) \n",
        "plt.subplot(222)\n",
        "plt.plot( log7_avg)\n",
        "\n",
        "plt.figure(8)\n",
        "plt.subplot(221)\n",
        "plt.plot( log8_std) \n",
        "plt.subplot(222)\n",
        "plt.plot( log8_avg)"
      ],
      "execution_count": 86,
      "outputs": [
        {
          "output_type": "execute_result",
          "data": {
            "text/plain": [
              "[<matplotlib.lines.Line2D at 0x7f8959af1cf8>]"
            ]
          },
          "metadata": {
            "tags": []
          },
          "execution_count": 86
        },
        {
          "output_type": "display_data",
          "data": {
            "image/png": "[encoded data removed]",
            "text/plain": [
              "<Figure size 432x288 with 2 Axes>"
            ]
          },
          "metadata": {
            "tags": []
          }
        },
        {
          "output_type": "display_data",
          "data": {
            "image/png": "[encoded data removed]",
            "text/plain": [
              "<Figure size 432x288 with 2 Axes>"
            ]
          },
          "metadata": {
            "tags": []
          }
        },
        {
          "output_type": "display_data",
          "data": {
            "image/png": "[encoded data removed]",
            "text/plain": [
              "<Figure size 432x288 with 2 Axes>"
            ]
          },
          "metadata": {
            "tags": []
          }
        },
        {
          "output_type": "display_data",
          "data": {
            "image/png": "[encoded data removed]",
            "text/plain": [
              "<Figure size 432x288 with 2 Axes>"
            ]
          },
          "metadata": {
            "tags": []
          }
        },
        {
          "output_type": "display_data",
          "data": {
            "image/png": "[encoded data removed]",
            "text/plain": [
              "<Figure size 432x288 with 2 Axes>"
            ]
          },
          "metadata": {
            "tags": []
          }
        },
        {
          "output_type": "display_data",
          "data": {
            "image/png": "[encoded data removed]",
            "text/plain": [
              "<Figure size 432x288 with 2 Axes>"
            ]
          },
          "metadata": {
            "tags": []
          }
        },
        {
          "output_type": "display_data",
          "data": {
            "image/png": "[encoded data removed]",
            "text/plain": [
              "<Figure size 432x288 with 2 Axes>"
            ]
          },
          "metadata": {
            "tags": []
          }
        },
        {
          "output_type": "display_data",
          "data": {
            "image/png": "[encoded data removed]",
            "text/plain": [
              "<Figure size 432x288 with 2 Axes>"
            ]
          },
          "metadata": {
            "tags": []
          }
        }
      ]
    },
    {
      "metadata": {
        "id": "QOjgBCzAvLCF",
        "colab_type": "code",
        "colab": {
          "base_uri": "https://localhost:8080/",
          "height": 5460
        },
        "outputId": "d1510a0d-095c-4fcb-d8c8-4e0a5a81f45d"
      },
      "cell_type": "code",
      "source": [
        "### Drop Columns\n",
        "\n",
        "index = 0\n",
        "\n",
        "drop_col = []\n",
        "for v in log1_std:\n",
        "    if log1_std[index] < 1e-5 and log2_std[index] < 1e-5 and log3_std[index] < 1e-5 and log4_std[index] < 1e-5 and log5_std[index] < 1e-5 and log6_std[index] < 1e-5 and log7_std[index] < 1e-5 and log8_std[index] < 1e-5 and log9_std[index] < 1e-5:\n",
        "        columnName = log1.columns[index]\n",
        "        drop_col.append(columnName)\n",
        "    index+=1\n",
        "\n",
        "print(log1.shape)\n",
        "\n",
        "log1 = log1.drop(drop_col, axis=1)\n",
        "log2 = log2.drop(drop_col, axis=1)\n",
        "log3 = log3.drop(drop_col, axis=1)\n",
        "log4 = log4.drop(drop_col, axis=1)\n",
        "log5 = log5.drop(drop_col, axis=1)\n",
        "log6 = log6.drop(drop_col, axis=1)\n",
        "log7 = log7.drop(drop_col, axis=1)\n",
        "log8 = log8.drop(drop_col, axis=1)\n",
        "log9 = log9.drop(drop_col, axis=1)\n",
        "print(log1.shape)\n",
        "\n",
        "columnNames  =    [' MA予約領域1', 'バージョン情報.対象装置APL2', 'バージョン情報.対象装置APL3', 'ECセンサ.CPU温度', 'ECセンサ.CPU PECI温度', 'ECセンサ.システム温度1', 'ECセンサ.システム温度2', \n",
        "                     'ECセンサ.FAN1', 'ECセンサ.FAN2', 'ECセンサ.電圧2', 'ECセンサ.電圧3', 'ECセンサ.電圧4', 'ECセンサ.電圧5', \n",
        "                     'ECセンサ.コア電圧', 'ECセンサ.3VSB(standby)電圧', 'ECセンサ.LCD輝度', 'ECセンサ.予備1', 'ECセンサ.予備2', 'ECセンサ.予備3', 'ECセンサ.予備4', 'ECセンサ.予備5', \n",
        "                     'ECセンサ.予備6', 'ATAPI.SMART情報2.生値2', 'ATAPI.SMART情報2.生値3', 'ATAPI.SMART情報2.生値4', 'ATAPI.SMART情報2.生値5', 'ATAPI.SMART情報3.生値1', \n",
        "                     'ATAPI.SMART情報3.生値3', 'ATAPI.SMART情報3.生値5', 'ATAPI.SMART情報5.生値5', 'ATAPI.SMART情報5.生値6', 'ATAPI.予備1.生値2', 'ATAPI.予備1.生値3', 'ATAPI.予備1.生値4', \n",
        "                     'ATAPI.予備1.生値5', 'ATAPI.予備2.生値2', 'ATAPI.予備2.生値3', 'ATAPI.予備2.生値4', 'ATAPI.予備2.生値5', 'ATAPI.予備3.生値5', 'ATAPI.予備3.生値6', '操作系.タッチパネル', \n",
        "                     '部品.部品交換情報.システム', '部品.部品交換情報.メモリ1', '部品.部品交換情報.メモリ2(予備)', '部品.部品交換情報.メモリ3(予備)', '部品.部品交換情報.メモリ4(予備)', \n",
        "                     '部品.部品交換情報.メモリ5(予備)', '部品.部品交換情報.メモリ6(予備)', '部品.部品交換情報.LCDパネル', '部品.部品交換情報.HDD1', '部品.部品交換情報.HDD2(予備)', '部品.部品交換情報.HDD3(予備)',\n",
        "                     '部品.部品交換情報.HDD4(予備)', '部品.部品交換情報.SSD1(予備)', '部品.部品交換情報.SSD2(予備)', '部品.部品交換情報.SSD3(予備)', '部品.部品交換情報.SSD4(予備)', \n",
        "                     '部品.部品交換情報.ACアダプタ', '部品.部品交換情報.バッテリー(予備)', '部品.部品交換情報.FAN1(予備)', '部品.部品交換情報.FAN2(予備)', '部品.部品交換情報.FAN3(予備)',\n",
        "                     '部品.部品交換情報.予備1', '部品.部品交換情報.予備2', '部品.部品交換情報.予備3', '部品.部品交換情報.予備4', '部品.部品交換情報.予備5', '部品.部品交換情報.予備6', \n",
        "                     '部品.部品交換情報.予備7', '部品.部品交換情報.予備8', 'ストレージ情報.ストレージグループ番号', 'ディスプレイ情報.ディスプレイ種別', '予備1', '予備2', '部品.稼働時間.メモリ1',\n",
        "                     '部品.稼働時間.メモリ2(予備)', '部品.稼働時間.メモリ3(予備)', '部品.稼働時間.メモリ4(予備)', '部品.稼働時間.メモリ5(予備)', '部品.稼働時間.HDD1', '部品.稼働時間.HDD2(予備)', \n",
        "                     '部品.稼働時間.HDD3(予備)', '部品.稼働時間.HDD4(予備)', '部品.稼働時間.SSD1(予備)', '部品.稼働時間.SSD2(予備)', '部品.稼働時間.SSD3(予備)', '部品.稼働時間.ACアダプタ', \n",
        "                     '部品.稼働時間.バッテリー(予備)', '部品.稼働時間.FAN1(予備)', '部品.稼働時間.FAN2(予備)', '部品.稼働時間.FAN3(予備)', '部品.稼働時間.予備1', '部品.稼働時間.予備2', '部品.稼働時間.予備3', \n",
        "                     '部品.稼働時間.予備4', '部品.稼働時間.予備5', '部品.稼働時間.予備6', '部品.稼働時間.予備7', '部品.稼働時間.予備8', '部品.アラーム.システム', '部品.アラーム.メモリ1',\n",
        "                     '部品.アラーム.メモリ2(予備)', '部品.アラーム.メモリ3(予備)', '部品.アラーム.メモリ4(予備)', '部品.アラーム.メモリ5(予備)', '部品.アラーム.HDD1', '部品.アラーム.HDD2(予備)', \n",
        "                     '部品.アラーム.HDD3(予備)', '部品.アラーム.HDD4(予備)', '部品.アラーム.SSD1(予備)', '部品.アラーム.SSD2(予備)', '部品.アラーム.SSD3(予備)', '部品.アラーム.ACアダプタ',\n",
        "                     '部品.アラーム.バッテリー(予備)', '部品.アラーム.FAN1(予備)', '部品.アラーム.FAN2(予備)', '部品.アラーム.FAN3(予備)', '部品.アラーム.予備1', '部品.アラーム.予備2', '部品.アラーム.予備3', \n",
        "                     '部品.アラーム.予備4', '部品.アラーム.予備5', '部品.アラーム.予備6', '部品.アラーム.予備7', '部品.アラーム.予備8', 'センサ.照度', 'センサ.湿度', 'センサ.大気圧', 'センサ.予備01', \n",
        "                     'センサ.予備02', 'センサ.予備03', 'センサ.予備04', 'センサ.予備05', 'センサ.予備06', 'センサ.予備07', 'センサ.予備08', 'センサ.予備09' ]\n",
        "\n",
        "print(log1.shape)\n",
        "\n",
        "print(log1)"
      ],
      "execution_count": 87,
      "outputs": [
        {
          "output_type": "stream",
          "text": [
            "(35180, 248)\n",
            "(35180, 110)\n",
            "(35180, 110)\n",
            "       MA予約領域3  MA予約領域4   管理番号  バージョン情報.対象装置APL1  バージョン情報.対象装置APL2  \\\n",
            "0          147       18      0                 0                 0   \n",
            "1          172       18      1                 0                 0   \n",
            "2          107       19      2                 0                 0   \n",
            "3          156       23      3                 0                 0   \n",
            "4          230       23      4                 0                 0   \n",
            "5          156       22      5                 0                 0   \n",
            "6          111       22      6                 0                 0   \n",
            "7          246       24      7                 0                 0   \n",
            "8           46       24      8                 0                 0   \n",
            "9            1       24      9                 0                 0   \n",
            "10          97       22     10                 0                 0   \n",
            "11         162       19     11                 0                 0   \n",
            "12          80       24     12                 0                 0   \n",
            "13           0       23     13                 0                 0   \n",
            "14          38       23     14                 0                 0   \n",
            "15         167       24     15                 0                 0   \n",
            "16          61       19     16                 0                 0   \n",
            "17         138       20     17                 0                 0   \n",
            "18         141       22     18                 0                 0   \n",
            "19         194       23     19                 0                 0   \n",
            "20          80       19     20                 0                 0   \n",
            "21         163       19     21                 0                 0   \n",
            "22          44       22     22                 0                 0   \n",
            "23         226       23     23                 0                 0   \n",
            "24         229       20     24                 0                 0   \n",
            "25         183       19     25                 0                 0   \n",
            "26         194       22     26                 0                 0   \n",
            "27         202       23     27                 0                 0   \n",
            "28          55       25     28                 0                 0   \n",
            "29         142       19     29                 0                 0   \n",
            "...        ...      ...    ...               ...               ...   \n",
            "35150       97       32  10727                 0                 0   \n",
            "35151      138       36  10728                 0                 0   \n",
            "35152       25       36  10729                 0                 0   \n",
            "35153       98       30  10730                 0                 0   \n",
            "35154      174       32  10731                 0                 0   \n",
            "35155       64       30  10732                 0                 0   \n",
            "35156      158       32  10733                 0                 0   \n",
            "35157      145       32  10734                 0                 0   \n",
            "35158       79       31  10735                 0                 0   \n",
            "35159      140       28  10736                 0                 0   \n",
            "35160       58       34  10737                 0                 0   \n",
            "35161      246       31  10738                 0                 0   \n",
            "35162       40       33  10739                 0                 0   \n",
            "35163      222       28  10740                 0                 0   \n",
            "35164       32       33  10741                 0                 0   \n",
            "35165      186       33  10742                 0                 0   \n",
            "35166      192       33  10743                 0                 0   \n",
            "35167      188       33  10744                 0                 0   \n",
            "35168      150       31  10745                 0                 0   \n",
            "35169      218       31  10746                 0                 0   \n",
            "35170      141       32  10747                 0                 0   \n",
            "35171      230       33  10748                 0                 0   \n",
            "35172      172       26  10749                 0                 0   \n",
            "35173       13       31  10750                 0                 0   \n",
            "35174      181       30  10751                 0                 0   \n",
            "35175        7       33  10752                 0                 0   \n",
            "35176      108       32  10753                 0                 0   \n",
            "35177       74       36  10754                 0                 0   \n",
            "35178       67       27  10755                 0                 0   \n",
            "35179      222       30  10756                 0                 0   \n",
            "\n",
            "       バージョン情報.対象装置F/W1  バージョン情報.対象装置F/W2  バージョン情報.対象装置F/W3  バージョン情報.対象装置F/W4  \\\n",
            "0                     0                 0                 2                 4   \n",
            "1                     0                 0                 2                 4   \n",
            "2                     0                 0                 2                 4   \n",
            "3                     0                 0                 2                 4   \n",
            "4                     0                 0                 2                 4   \n",
            "5                     0                 0                 2                 4   \n",
            "6                     0                 0                 2                 4   \n",
            "7                     0                 0                 2                 4   \n",
            "8                     0                 0                 2                 4   \n",
            "9                     0                 0                 2                 4   \n",
            "10                    0                 0                 2                 4   \n",
            "11                    0                 0                 2                 4   \n",
            "12                    0                 0                 2                 4   \n",
            "13                    0                 0                 2                 4   \n",
            "14                    0                 0                 2                 4   \n",
            "15                    0                 0                 2                 4   \n",
            "16                    0                 0                 2                 4   \n",
            "17                    0                 0                 2                 4   \n",
            "18                    0                 0                 2                 4   \n",
            "19                    0                 0                 2                 4   \n",
            "20                    0                 0                 2                 4   \n",
            "21                    0                 0                 2                 4   \n",
            "22                    0                 0                 2                 4   \n",
            "23                    0                 0                 2                 4   \n",
            "24                    0                 0                 2                 4   \n",
            "25                    0                 0                 2                 4   \n",
            "26                    0                 0                 2                 4   \n",
            "27                    0                 0                 2                 4   \n",
            "28                    0                 0                 2                 4   \n",
            "29                    0                 0                 2                 4   \n",
            "...                 ...               ...               ...               ...   \n",
            "35150                 0                 0                 4                13   \n",
            "35151                 0                 0                 4                13   \n",
            "35152                 0                 0                 4                13   \n",
            "35153                 0                 0                 4                13   \n",
            "35154                 0                 0                 4                13   \n",
            "35155                 0                 0                 4                13   \n",
            "35156                 0                 0                 4                13   \n",
            "35157                 0                 0                 4                13   \n",
            "35158                 0                 0                 4                13   \n",
            "35159                 0                 0                 4                13   \n",
            "35160                 0                 0                 4                13   \n",
            "35161                 0                 0                 4                13   \n",
            "35162                 0                 0                 4                13   \n",
            "35163                 0                 0                 4                13   \n",
            "35164                 0                 0                 4                13   \n",
            "35165                 0                 0                 4                13   \n",
            "35166                 0                 0                 4                13   \n",
            "35167                 0                 0                 4                13   \n",
            "35168                 0                 0                 4                13   \n",
            "35169                 0                 0                 4                13   \n",
            "35170                 0                 0                 4                13   \n",
            "35171                 0                 0                 4                13   \n",
            "35172                 0                 0                 4                13   \n",
            "35173                 0                 0                 4                13   \n",
            "35174                 0                 0                 4                13   \n",
            "35175                 0                 0                 4                13   \n",
            "35176                 0                 0                 4                13   \n",
            "35177                 0                 0                 4                13   \n",
            "35178                 0                 0                 4                13   \n",
            "35179                 0                 0                 4                13   \n",
            "\n",
            "       バージョン情報.アルゴリズム演算部1   ...    部品.稼働時間.ACアダプタ  部品.アラーム.MB/CPU  \\\n",
            "0                       0   ...               3.0             0.0   \n",
            "1                       0   ...               5.0             0.0   \n",
            "2                       0   ...              17.0             0.0   \n",
            "3                       0   ...             280.0             0.0   \n",
            "4                       0   ...             573.0             0.0   \n",
            "5                       0   ...             866.0             0.0   \n",
            "6                       0   ...            1159.0             0.0   \n",
            "7                       0   ...            1452.0             0.0   \n",
            "8                       0   ...            1745.0             0.0   \n",
            "9                       0   ...            2038.0             0.0   \n",
            "10                      0   ...            2331.0             0.0   \n",
            "11                      0   ...            2626.0             0.0   \n",
            "12                      0   ...            2923.0             0.0   \n",
            "13                      0   ...            3218.0             0.0   \n",
            "14                      0   ...            3219.0             0.0   \n",
            "15                      0   ...            3279.0             0.0   \n",
            "16                      0   ...            3339.0             0.0   \n",
            "17                      0   ...            3399.0             0.0   \n",
            "18                      0   ...            3459.0             0.0   \n",
            "19                      0   ...            3519.0             0.0   \n",
            "20                      0   ...            3579.0             0.0   \n",
            "21                      0   ...            3639.0             0.0   \n",
            "22                      0   ...            3699.0             0.0   \n",
            "23                      0   ...            3759.0             0.0   \n",
            "24                      0   ...            3819.0             0.0   \n",
            "25                      0   ...            3879.0             0.0   \n",
            "26                      0   ...            3939.0             0.0   \n",
            "27                      0   ...            3999.0             0.0   \n",
            "28                      0   ...            4059.0             0.0   \n",
            "29                      0   ...            4119.0             0.0   \n",
            "...                   ...   ...               ...             ...   \n",
            "35150                   0   ...          701669.0             1.0   \n",
            "35151                   0   ...          701735.0             1.0   \n",
            "35152                   0   ...          701801.0             1.0   \n",
            "35153                   0   ...          701866.0             1.0   \n",
            "35154                   0   ...          701931.0             1.0   \n",
            "35155                   0   ...          701996.0             1.0   \n",
            "35156                   0   ...          702058.0             1.0   \n",
            "35157                   0   ...          702123.0             1.0   \n",
            "35158                   0   ...          702185.0             1.0   \n",
            "35159                   0   ...          702250.0             1.0   \n",
            "35160                   0   ...          702315.0             1.0   \n",
            "35161                   0   ...          702380.0             1.0   \n",
            "35162                   0   ...          702446.0             1.0   \n",
            "35163                   0   ...          702513.0             1.0   \n",
            "35164                   0   ...          702580.0             1.0   \n",
            "35165                   0   ...          702650.0             1.0   \n",
            "35166                   0   ...          702720.0             1.0   \n",
            "35167                   0   ...          702790.0             1.0   \n",
            "35168                   0   ...          702860.0             1.0   \n",
            "35169                   0   ...          702943.0             1.0   \n",
            "35170                   0   ...          703009.0             1.0   \n",
            "35171                   0   ...          703074.0             1.0   \n",
            "35172                   0   ...          703141.0             1.0   \n",
            "35173                   0   ...          703207.0             1.0   \n",
            "35174                   0   ...          703269.0             1.0   \n",
            "35175                   0   ...          703334.0             1.0   \n",
            "35176                   0   ...          703395.0             1.0   \n",
            "35177                   0   ...          703455.0             1.0   \n",
            "35178                   0   ...          703515.0             1.0   \n",
            "35179                   0   ...          703575.0             1.0   \n",
            "\n",
            "       部品.アラーム.メモリ1  部品.アラーム.LCDパネル  部品.アラーム.タッチパネル  部品.アラーム.HDD1  \\\n",
            "0               0.0             0.0             0.0           0.0   \n",
            "1               0.0             0.0             0.0           0.0   \n",
            "2               0.0             0.0             0.0           0.0   \n",
            "3               0.0             0.0             0.0           0.0   \n",
            "4               0.0             0.0             0.0           0.0   \n",
            "5               0.0             0.0             0.0           0.0   \n",
            "6               0.0             0.0             0.0           0.0   \n",
            "7               0.0             0.0             0.0           0.0   \n",
            "8               0.0             0.0             0.0           0.0   \n",
            "9               0.0             0.0             0.0           0.0   \n",
            "10              0.0             0.0             0.0           0.0   \n",
            "11              0.0             0.0             0.0           0.0   \n",
            "12              0.0             0.0             0.0           0.0   \n",
            "13              0.0             0.0             0.0           0.0   \n",
            "14              0.0             0.0             0.0           0.0   \n",
            "15              0.0             0.0             0.0           0.0   \n",
            "16              0.0             0.0             0.0           0.0   \n",
            "17              0.0             0.0             0.0           0.0   \n",
            "18              0.0             0.0             0.0           0.0   \n",
            "19              0.0             0.0             0.0           0.0   \n",
            "20              0.0             0.0             0.0           0.0   \n",
            "21              0.0             0.0             0.0           0.0   \n",
            "22              0.0             0.0             0.0           0.0   \n",
            "23              0.0             0.0             0.0           0.0   \n",
            "24              0.0             0.0             0.0           0.0   \n",
            "25              0.0             0.0             0.0           0.0   \n",
            "26              0.0             0.0             0.0           0.0   \n",
            "27              0.0             0.0             0.0           0.0   \n",
            "28              0.0             0.0             0.0           0.0   \n",
            "29              0.0             0.0             0.0           0.0   \n",
            "...             ...             ...             ...           ...   \n",
            "35150           0.0             0.0             0.0           0.0   \n",
            "35151           0.0             0.0             0.0           0.0   \n",
            "35152           0.0             0.0             0.0           0.0   \n",
            "35153           0.0             0.0             0.0           0.0   \n",
            "35154           0.0             0.0             0.0           0.0   \n",
            "35155           0.0             0.0             0.0           0.0   \n",
            "35156           0.0             0.0             0.0           0.0   \n",
            "35157           0.0             0.0             0.0           0.0   \n",
            "35158           0.0             0.0             0.0           0.0   \n",
            "35159           0.0             0.0             0.0           0.0   \n",
            "35160           0.0             0.0             0.0           0.0   \n",
            "35161           0.0             0.0             0.0           0.0   \n",
            "35162           0.0             0.0             0.0           0.0   \n",
            "35163           0.0             0.0             0.0           0.0   \n",
            "35164           0.0             0.0             0.0           0.0   \n",
            "35165           0.0             0.0             0.0           0.0   \n",
            "35166           0.0             0.0             0.0           0.0   \n",
            "35167           0.0             0.0             0.0           0.0   \n",
            "35168           0.0             0.0             0.0           0.0   \n",
            "35169           0.0             0.0             0.0           0.0   \n",
            "35170           0.0             0.0             0.0           0.0   \n",
            "35171           0.0             0.0             0.0           0.0   \n",
            "35172           0.0             0.0             0.0           0.0   \n",
            "35173           0.0             0.0             0.0           0.0   \n",
            "35174           0.0             0.0             0.0           0.0   \n",
            "35175           0.0             0.0             0.0           0.0   \n",
            "35176           0.0             0.0             0.0           0.0   \n",
            "35177           0.0             0.0             0.0           0.0   \n",
            "35178           0.0             0.0             0.0           0.0   \n",
            "35179           0.0             0.0             0.0           0.0   \n",
            "\n",
            "       部品.アラーム.ACアダプタ  センサ.加速度  センサ.温度  センサ.湿度  \n",
            "0                 0.0      0.0   356.0    19.0  \n",
            "1                 0.0      0.0   362.0    18.0  \n",
            "2                 0.0      0.0   380.0    17.0  \n",
            "3                 0.0      0.0   424.0     9.0  \n",
            "4                 0.0      0.0   424.0     8.0  \n",
            "5                 0.0      0.0   424.0     8.0  \n",
            "6                 0.0      0.0   424.0     8.0  \n",
            "7                 0.0      0.0   424.0     7.0  \n",
            "8                 0.0      0.0   424.0     8.0  \n",
            "9                 0.0      0.0   424.0     8.0  \n",
            "10                0.0      0.0   424.0     8.0  \n",
            "11                0.0      0.0   424.0     8.0  \n",
            "12                0.0      0.0   424.0     8.0  \n",
            "13                0.0      0.0   424.0     8.0  \n",
            "14                0.0      0.0     0.0     9.0  \n",
            "15                0.0      0.0     0.0     8.0  \n",
            "16                0.0      0.0     0.0     8.0  \n",
            "17                0.0      0.0     0.0     8.0  \n",
            "18                0.0      0.0     0.0     8.0  \n",
            "19                0.0      0.0     0.0     8.0  \n",
            "20                0.0      0.0     0.0     8.0  \n",
            "21                0.0      0.0     0.0     8.0  \n",
            "22                0.0      0.0     0.0     8.0  \n",
            "23                0.0      0.0     0.0     8.0  \n",
            "24                0.0      0.0     0.0     8.0  \n",
            "25                0.0      0.0     0.0     8.0  \n",
            "26                0.0      0.0     0.0     8.0  \n",
            "27                0.0      0.0     0.0     8.0  \n",
            "28                0.0      0.0     0.0     8.0  \n",
            "29                0.0      0.0     0.0     8.0  \n",
            "...               ...      ...     ...     ...  \n",
            "35150             0.0      0.0   465.0     7.0  \n",
            "35151             0.0      0.0   465.0     7.0  \n",
            "35152             0.0      0.0   465.0     7.0  \n",
            "35153             0.0      0.0   464.0     7.0  \n",
            "35154             0.0      0.0   463.0     7.0  \n",
            "35155             0.0      0.0   463.0     7.0  \n",
            "35156             0.0      0.0   464.0     7.0  \n",
            "35157             0.0      0.0   464.0     7.0  \n",
            "35158             0.0      0.0   464.0     7.0  \n",
            "35159             0.0      0.0   464.0     7.0  \n",
            "35160             0.0      0.0   464.0     7.0  \n",
            "35161             0.0      0.0   464.0     7.0  \n",
            "35162             0.0      0.0   465.0     7.0  \n",
            "35163             0.0      0.0   468.0     7.0  \n",
            "35164             0.0      0.0   469.0     7.0  \n",
            "35165             0.0      0.0   475.0     8.0  \n",
            "35166             0.0      0.0   475.0     7.0  \n",
            "35167             0.0      0.0   474.0     8.0  \n",
            "35168             0.0      0.0   472.0     8.0  \n",
            "35169             0.0      0.0   470.0     8.0  \n",
            "35170             0.0      0.0   470.0     8.0  \n",
            "35171             0.0      0.0   468.0     8.0  \n",
            "35172             0.0      0.0   466.0     8.0  \n",
            "35173             0.0      0.0   464.0     8.0  \n",
            "35174             0.0      0.0   462.0     8.0  \n",
            "35175             0.0      0.0   461.0     8.0  \n",
            "35176             0.0      0.0   459.0     8.0  \n",
            "35177             0.0      0.0   459.0     8.0  \n",
            "35178             0.0      0.0   458.0     8.0  \n",
            "35179             0.0      0.0   457.0     8.0  \n",
            "\n",
            "[35180 rows x 110 columns]\n"
          ],
          "name": "stdout"
        }
      ]
    },
    {
      "metadata": {
        "id": "wW49ALhVvO6R",
        "colab_type": "code",
        "colab": {
          "base_uri": "https://localhost:8080/",
          "height": 303
        },
        "outputId": "6f5a89d3-1440-4fd0-8404-f41a2cf70fc6"
      },
      "cell_type": "code",
      "source": [
        "import numpy as np\n",
        "from sklearn.manifold import TSNE\n",
        "\n",
        "X = log1.values\n",
        "print( X.shape )\n",
        "X_embedded = TSNE(n_components=2).fit_transform(X)\n",
        "print(X_embedded.shape)\n",
        "\n",
        "plt.figure(1)\n",
        "plt.imshow(X_embedded, cmap='hot')\n",
        "plt.show()\n",
        "print( X_embedded)"
      ],
      "execution_count": 91,
      "outputs": [
        {
          "output_type": "stream",
          "text": [
            "(35180, 110)\n",
            "(35180, 2)\n"
          ],
          "name": "stdout"
        },
        {
          "output_type": "display_data",
          "data": {
            "image/png": "[encoded data removed]",
            "text/plain": [
              "<Figure size 432x288 with 1 Axes>"
            ]
          },
          "metadata": {
            "tags": []
          }
        }
      ]
    },
    {
      "metadata": {
        "id": "e6gRWtitKzla",
        "colab_type": "code",
        "colab": {
          "base_uri": "https://localhost:8080/",
          "height": 422
        },
        "outputId": "2684181e-9eac-4ff7-87a6-2763497e7a8b"
      },
      "cell_type": "code",
      "source": [
        "import numpy as np\n",
        "from sklearn.manifold import TSNE\n",
        "\n",
        "X = log2.values\n",
        "print( X.shape )\n",
        "X_embedded = TSNE(n_components=2).fit_transform(X)\n",
        "print(X_embedded.shape)\n",
        "\n",
        "plt.figure(1)\n",
        "plt.imshow(X_embedded, cmap='hot')\n",
        "plt.show()\n",
        "print( X_embedded)"
      ],
      "execution_count": 93,
      "outputs": [
        {
          "output_type": "stream",
          "text": [
            "(6847, 110)\n",
            "(6847, 2)\n"
          ],
          "name": "stdout"
        },
        {
          "output_type": "display_data",
          "data": {
            "image/png": "[encoded data removed]",
            "text/plain": [
              "<Figure size 432x288 with 1 Axes>"
            ]
          },
          "metadata": {
            "tags": []
          }
        },
        {
          "output_type": "stream",
          "text": [
            "[[ 0.30751613 66.6713    ]\n",
            " [ 0.27022418 66.652405  ]\n",
            " [ 0.22383955 66.6331    ]\n",
            " ...\n",
            " [76.48946    32.000874  ]\n",
            " [76.50955    31.948189  ]\n",
            " [76.54006    31.914845  ]]\n"
          ],
          "name": "stdout"
        }
      ]
    },
    {
      "metadata": {
        "id": "EIUEcHzfNeS4",
        "colab_type": "code",
        "colab": {
          "base_uri": "https://localhost:8080/",
          "height": 422
        },
        "outputId": "c3bc7ead-f549-4f4a-b439-1ae157fe1c68"
      },
      "cell_type": "code",
      "source": [
        "import numpy as np\n",
        "from sklearn.manifold import TSNE\n",
        "\n",
        "X = log3.values\n",
        "print( X.shape )\n",
        "X_embedded = TSNE(n_components=2).fit_transform(X)\n",
        "print(X_embedded.shape)\n",
        "\n",
        "plt.figure(1)\n",
        "plt.imshow(X_embedded, cmap='hot')\n",
        "plt.show()\n",
        "print( X_embedded)"
      ],
      "execution_count": 94,
      "outputs": [
        {
          "output_type": "stream",
          "text": [
            "(33367, 110)\n",
            "(33367, 2)\n"
          ],
          "name": "stdout"
        },
        {
          "output_type": "display_data",
          "data": {
            "image/png": "[encoded data removed]",
            "text/plain": [
              "<Figure size 432x288 with 1 Axes>"
            ]
          },
          "metadata": {
            "tags": []
          }
        },
        {
          "output_type": "stream",
          "text": [
            "[[-43.68638  -79.161514]\n",
            " [-43.69694  -79.14998 ]\n",
            " [-43.709873 -79.13587 ]\n",
            " ...\n",
            " [-24.263773 -32.061028]\n",
            " [-24.26872  -32.072147]\n",
            " [-24.273348 -32.082554]]\n"
          ],
          "name": "stdout"
        }
      ]
    },
    {
      "metadata": {
        "id": "jqSlsS3LRYj2",
        "colab_type": "code",
        "colab": {
          "base_uri": "https://localhost:8080/",
          "height": 422
        },
        "outputId": "b7f10564-83c7-43b1-ffc9-aa5e4ec3071a"
      },
      "cell_type": "code",
      "source": [
        "import numpy as np\n",
        "from sklearn.manifold import TSNE\n",
        "\n",
        "X = log4.values\n",
        "print( X.shape )\n",
        "X_embedded = TSNE(n_components=2).fit_transform(X)\n",
        "print(X_embedded.shape)\n",
        "\n",
        "plt.figure(1)\n",
        "plt.imshow(X_embedded, cmap='hot')\n",
        "plt.show()\n",
        "print( X_embedded)"
      ],
      "execution_count": 95,
      "outputs": [
        {
          "output_type": "stream",
          "text": [
            "(36309, 110)\n",
            "(36309, 2)\n"
          ],
          "name": "stdout"
        },
        {
          "output_type": "display_data",
          "data": {
            "image/png": "[encoded data removed]",
            "text/plain": [
              "<Figure size 432x288 with 1 Axes>"
            ]
          },
          "metadata": {
            "tags": []
          }
        },
        {
          "output_type": "stream",
          "text": [
            "[[ 75.70301   39.26781 ]\n",
            " [ 75.58871   38.430256]\n",
            " [ 75.551285  38.292377]\n",
            " ...\n",
            " [ 54.938206 -42.51347 ]\n",
            " [ 54.96539  -42.537777]\n",
            " [ 52.417717 -40.87532 ]]\n"
          ],
          "name": "stdout"
        }
      ]
    },
    {
      "metadata": {
        "id": "-k6ej6NURvLG",
        "colab_type": "code",
        "colab": {
          "base_uri": "https://localhost:8080/",
          "height": 7851
        },
        "outputId": "3eb078f0-b02f-4506-9e68-a372fa8559c7"
      },
      "cell_type": "code",
      "source": [
        "import numpy as np\n",
        "from sklearn.manifold import TSNE\n",
        "\n",
        "X = log5.values\n",
        "print( X.shape )\n",
        "X_embedded = TSNE(n_components=2).fit_transform(X)\n",
        "print(X_embedded.shape)\n",
        "\n",
        "plt.figure(1)\n",
        "plt.imshow(X_embedded, cmap='hot')\n",
        "plt.show()\n",
        "print( X_embedded)"
      ],
      "execution_count": 96,
      "outputs": [
        {
          "output_type": "stream",
          "text": [
            "(444, 110)\n",
            "(444, 2)\n"
          ],
          "name": "stdout"
        },
        {
          "output_type": "display_data",
          "data": {
            "image/png": "[encoded data removed]",
            "text/plain": [
              "<Figure size 432x288 with 1 Axes>"
            ]
          },
          "metadata": {
            "tags": []
          }
        },
        {
          "output_type": "stream",
          "text": [
            "[[-18.225313   -18.799099  ]\n",
            " [-18.069342   -18.961618  ]\n",
            " [-17.996685   -19.184643  ]\n",
            " [-18.002466   -18.53552   ]\n",
            " [-17.986662   -18.510317  ]\n",
            " [-17.960691   -19.228117  ]\n",
            " [-17.916637   -18.43363   ]\n",
            " [-17.912266   -19.246197  ]\n",
            " [-17.755785   -18.357998  ]\n",
            " [-17.47935    -19.194986  ]\n",
            " [-17.355478   -18.497131  ]\n",
            " [-17.273914   -18.683434  ]\n",
            " [-17.172237   -19.170597  ]\n",
            " [-17.0598     -19.160208  ]\n",
            " [-16.936941   -18.60413   ]\n",
            " [-16.82369    -18.617783  ]\n",
            " [-16.706528   -19.136452  ]\n",
            " [-16.592937   -19.17342   ]\n",
            " [-16.500671   -18.554005  ]\n",
            " [-16.396862   -18.564285  ]\n",
            " [-16.272411   -19.162357  ]\n",
            " [-16.170181   -19.181862  ]\n",
            " [-16.099083   -18.508419  ]\n",
            " [-15.967161   -19.17953   ]\n",
            " [-15.898507   -18.419176  ]\n",
            " [-15.76903    -18.40168   ]\n",
            " [-15.642271   -19.085129  ]\n",
            " [-15.558036   -18.958813  ]\n",
            " [-15.547961   -18.937164  ]\n",
            " [-15.519253   -18.450386  ]\n",
            " [-15.384406   -18.51688   ]\n",
            " [-15.294022   -18.515335  ]\n",
            " [-15.065503   -19.125412  ]\n",
            " [-14.75881    -19.880808  ]\n",
            " [-14.398265   -20.152515  ]\n",
            " [-14.050673   -20.411291  ]\n",
            " [-13.734424   -20.6459    ]\n",
            " [-13.434454   -20.852226  ]\n",
            " [-13.154711   -21.038717  ]\n",
            " [-12.895791   -21.208654  ]\n",
            " [-12.643422   -21.362577  ]\n",
            " [-12.40544    -21.507977  ]\n",
            " [-12.18213    -21.643173  ]\n",
            " [-11.955396   -21.769999  ]\n",
            " [-11.743301   -21.891977  ]\n",
            " [-11.533531   -22.012697  ]\n",
            " [-11.325652   -22.123512  ]\n",
            " [-11.124877   -22.231792  ]\n",
            " [-10.923571   -22.335123  ]\n",
            " [-10.72324    -22.434473  ]\n",
            " [-10.530663   -22.530867  ]\n",
            " [-10.33655    -22.625296  ]\n",
            " [-10.140503   -22.717484  ]\n",
            " [ -9.945958   -22.808165  ]\n",
            " [ -9.752622   -22.891607  ]\n",
            " [ -9.557869   -22.975906  ]\n",
            " [ -9.37074    -23.055443  ]\n",
            " [ -9.176346   -23.131924  ]\n",
            " [ -8.981963   -23.208689  ]\n",
            " [ -8.793651   -23.28376   ]\n",
            " [ -8.599378   -23.35575   ]\n",
            " [ -8.403046   -23.42245   ]\n",
            " [ -8.211329   -23.485304  ]\n",
            " [ -8.023316   -23.562504  ]\n",
            " [ -7.8249807  -23.619328  ]\n",
            " [ -7.6256347  -23.661177  ]\n",
            " [ -7.443578   -23.743488  ]\n",
            " [ -7.2455444  -23.79036   ]\n",
            " [ -7.047316   -23.844778  ]\n",
            " [ -6.8491955  -23.88336   ]\n",
            " [ -6.6567764  -23.950632  ]\n",
            " [ -6.454431   -23.995735  ]\n",
            " [ -6.2559814  -24.029253  ]\n",
            " [ -6.057207   -24.079605  ]\n",
            " [ -5.8550887  -24.12666   ]\n",
            " [ -5.65599    -24.157658  ]\n",
            " [ -5.4576325  -24.192385  ]\n",
            " [ -5.2534347  -24.229082  ]\n",
            " [ -5.049052   -24.26043   ]\n",
            " [ -4.849304   -24.298607  ]\n",
            " [ -4.64071    -24.316362  ]\n",
            " [ -4.4364367  -24.342484  ]\n",
            " [ -4.2381     -24.37279   ]\n",
            " [ -4.0279975  -24.38799   ]\n",
            " [ -3.816284   -24.407043  ]\n",
            " [ -3.6094363  -24.430807  ]\n",
            " [ -3.3947828  -24.440723  ]\n",
            " [ -3.1832287  -24.452595  ]\n",
            " [ -2.9725685  -24.465511  ]\n",
            " [ -2.75816    -24.472286  ]\n",
            " [ -2.5460486  -24.479063  ]\n",
            " [ -2.3342946  -24.484451  ]\n",
            " [ -2.1224673  -24.486479  ]\n",
            " [ -1.9055306  -24.484653  ]\n",
            " [ -1.6780111  -24.483774  ]\n",
            " [ -1.6165533  -24.480658  ]\n",
            " [ -1.3823782  -24.47258   ]\n",
            " [ -1.1557798  -24.46409   ]\n",
            " [ -0.9338842  -24.45264   ]\n",
            " [ -0.7046114  -24.438305  ]\n",
            " [ -0.46928972 -24.419834  ]\n",
            " [ -0.21767397 -24.400312  ]\n",
            " [  0.03818147 -24.376438  ]\n",
            " [  0.29968184 -24.349752  ]\n",
            " [  0.5681306  -24.321224  ]\n",
            " [  0.8435162  -24.288656  ]\n",
            " [  1.1320437  -24.251575  ]\n",
            " [  1.4356251  -24.213385  ]\n",
            " [  1.7574396  -24.16836   ]\n",
            " [  2.1020093  -24.117989  ]\n",
            " [  2.4878633  -24.060324  ]\n",
            " [  2.9227867  -23.994476  ]\n",
            " [  3.441003   -23.917028  ]\n",
            " [  4.0408196  -23.833302  ]\n",
            " [  4.610962   -23.736694  ]\n",
            " [  5.115889   -24.06506   ]\n",
            " [  5.2084537  -23.749825  ]\n",
            " [  5.325331   -23.890287  ]\n",
            " [  5.2278566  -23.462002  ]\n",
            " [  5.3042874  -23.38318   ]\n",
            " [  5.650249   -23.787283  ]\n",
            " [  5.757335   -23.731834  ]\n",
            " [  5.62547    -23.208336  ]\n",
            " [  5.7386866  -23.162935  ]\n",
            " [  6.1094785  -23.542158  ]\n",
            " [  6.228278   -23.460693  ]\n",
            " [  6.1147738  -22.984695  ]\n",
            " [  6.4595213  -23.269583  ]\n",
            " [  6.4015245  -22.86308   ]\n",
            " [  6.545146   -22.791948  ]\n",
            " [  6.857092   -23.019796  ]\n",
            " [  6.976822   -22.917358  ]\n",
            " [  6.944145   -22.492064  ]\n",
            " [  7.0973783  -22.377886  ]\n",
            " [  7.5583673  -22.665571  ]\n",
            " [  7.583618   -22.714014  ]\n",
            " [  7.6122494  -22.708153  ]\n",
            " [  7.595526   -22.601196  ]\n",
            " [  7.3883367  -22.194242  ]\n",
            " [  7.63935    -22.11701   ]\n",
            " [  7.9133434  -22.120314  ]\n",
            " [  8.142426   -22.089083  ]\n",
            " [  8.350031   -21.981647  ]\n",
            " [  8.527144   -21.835386  ]\n",
            " [  8.753813   -21.70249   ]\n",
            " [  8.960597   -21.590467  ]\n",
            " [  9.156787   -21.440338  ]\n",
            " [  9.374973   -21.32444   ]\n",
            " [  9.585544   -21.20015   ]\n",
            " [  9.789107   -21.081913  ]\n",
            " [  9.978913   -20.959366  ]\n",
            " [ 10.170942   -20.865408  ]\n",
            " [ 10.353859   -20.766453  ]\n",
            " [ 10.519709   -20.630245  ]\n",
            " [ 10.687059   -20.528536  ]\n",
            " [ 10.891007   -20.476889  ]\n",
            " [ 11.0461645  -20.339733  ]\n",
            " [ 11.184204   -20.190308  ]\n",
            " [ 11.443953   -20.202007  ]\n",
            " [ 11.337485   -19.965717  ]\n",
            " [ 11.662335   -20.064526  ]\n",
            " [ 11.779524   -19.846983  ]\n",
            " [ 11.951954   -19.72274   ]\n",
            " [ 12.085172   -19.55141   ]\n",
            " [ 12.327218   -19.573763  ]\n",
            " [ 12.479368   -19.451063  ]\n",
            " [ 12.513207   -19.190392  ]\n",
            " [ 12.841192   -19.359894  ]\n",
            " [ 12.733095   -18.96117   ]\n",
            " [ 13.0916195  -19.191864  ]\n",
            " [ 12.973599   -18.78608   ]\n",
            " [ 13.360955   -19.059828  ]\n",
            " [ 13.187063   -18.599094  ]\n",
            " [ 13.294585   -18.512516  ]\n",
            " [ 13.675593   -18.831566  ]\n",
            " [ 13.777848   -18.765335  ]\n",
            " [ 13.569934   -18.270851  ]\n",
            " [ 13.671671   -18.205824  ]\n",
            " [ 14.058752   -18.52512   ]\n",
            " [ 14.105033   -18.450565  ]\n",
            " [ 14.024725   -18.069666  ]\n",
            " [ 14.1801195  -18.10136   ]\n",
            " [ 14.246164   -18.054546  ]\n",
            " [ 14.308489   -18.015997  ]\n",
            " [ 20.285011    -8.099878  ]\n",
            " [ 20.284616    -7.9382706 ]\n",
            " [ 20.36719     -7.4832993 ]\n",
            " [ 20.141045    -7.392356  ]\n",
            " [ 20.526627    -7.2884026 ]\n",
            " [ 20.546124    -7.1879506 ]\n",
            " [ 20.014816    -7.0789485 ]\n",
            " [ 20.027199    -6.966582  ]\n",
            " [ 20.030416    -6.8521256 ]\n",
            " [ 20.60783     -6.7680883 ]\n",
            " [ 20.61799     -6.6599536 ]\n",
            " [ 19.967098    -6.5216026 ]\n",
            " [ 20.644382    -6.441042  ]\n",
            " [ 20.079996    -6.3196535 ]\n",
            " [ 19.965164    -6.211351  ]\n",
            " [ 20.614159    -6.1207976 ]\n",
            " [ 20.650082    -6.0082207 ]\n",
            " [ 19.994621    -5.89522   ]\n",
            " [ 20.66772     -5.7945833 ]\n",
            " [ 20.090033    -5.671879  ]\n",
            " [ 20.171824    -5.5645757 ]\n",
            " [ 20.059294    -5.4482913 ]\n",
            " [ 20.641315    -5.3653555 ]\n",
            " [ 20.60219     -5.2510643 ]\n",
            " [ 20.157656    -5.119266  ]\n",
            " [ 20.371042    -5.0175986 ]\n",
            " [ 20.381907    -4.9232693 ]\n",
            " [ 20.319588    -4.8794847 ]\n",
            " [ 19.930485    11.2132435 ]\n",
            " [ 19.898865    11.293714  ]\n",
            " [ 19.924696    11.422343  ]\n",
            " [ 19.659906    11.412965  ]\n",
            " [ 19.547083    11.488151  ]\n",
            " [ 19.899471    11.802121  ]\n",
            " [ 19.857395    11.92488   ]\n",
            " [ 19.70646     11.98409   ]\n",
            " [ 19.285368    11.877124  ]\n",
            " [ 19.670675    12.280882  ]\n",
            " [ 19.162733    12.119344  ]\n",
            " [ 19.492296    12.504475  ]\n",
            " [ 19.025604    12.378091  ]\n",
            " [ 19.292913    12.7334385 ]\n",
            " [ 18.90602     12.664686  ]\n",
            " [ 19.11793     12.994768  ]\n",
            " [ 19.027536    13.130666  ]\n",
            " [ 18.651857    13.046163  ]\n",
            " [ 18.571552    13.187085  ]\n",
            " [ 18.625458    13.44106   ]\n",
            " [ 18.563816    13.605267  ]\n",
            " [ 18.403797    13.705889  ]\n",
            " [ 18.193375    13.778317  ]\n",
            " [ 18.068838    13.929684  ]\n",
            " [ 18.02254     14.166268  ]\n",
            " [ 17.84291     14.306541  ]\n",
            " [ 17.672495    14.46938   ]\n",
            " [ 17.523027    14.635604  ]\n",
            " [ 17.368032    14.812266  ]\n",
            " [ 17.235994    14.991544  ]\n",
            " [ 17.107525    15.191154  ]\n",
            " [ 16.973616    15.404875  ]\n",
            " [ 16.23335     14.987523  ]\n",
            " [ 16.310917    15.075756  ]\n",
            " [ 16.773108    15.612566  ]\n",
            " [ 16.745136    15.633825  ]\n",
            " [ 16.528358    15.807426  ]\n",
            " [ 16.322916    15.951056  ]\n",
            " [ 16.136845    16.091127  ]\n",
            " [ 15.960801    16.246618  ]\n",
            " [ 15.781839    16.401981  ]\n",
            " [ 15.625893    16.581648  ]\n",
            " [ 15.452159    16.728449  ]\n",
            " [ 15.295952    16.866215  ]\n",
            " [ 15.137081    17.018023  ]\n",
            " [ 14.974968    17.158249  ]\n",
            " [ 14.818559    17.303589  ]\n",
            " [ 14.658145    17.435211  ]\n",
            " [ 14.49892     17.575905  ]\n",
            " [ 14.33913     17.710127  ]\n",
            " [ 14.177259    17.844759  ]\n",
            " [ 14.019918    17.97758   ]\n",
            " [ 13.859858    18.105804  ]\n",
            " [ 13.694452    18.227232  ]\n",
            " [ 13.53214     18.359606  ]\n",
            " [ 13.370393    18.496994  ]\n",
            " [ 13.205711    18.608477  ]\n",
            " [ 13.028598    18.739504  ]\n",
            " [ 12.867797    18.866474  ]\n",
            " [ 12.709742    18.980473  ]\n",
            " [ 12.536953    19.102196  ]\n",
            " [ 12.365032    19.220432  ]\n",
            " [ 12.197272    19.34017   ]\n",
            " [ 12.027171    19.462246  ]\n",
            " [ 11.856333    19.578691  ]\n",
            " [ 11.680325    19.680279  ]\n",
            " [ 11.513238    19.806698  ]\n",
            " [ 11.332587    19.911745  ]\n",
            " [ 11.171572    20.023655  ]\n",
            " [ 10.991971    20.131779  ]\n",
            " [ 10.809527    20.24355   ]\n",
            " [ 10.6203575   20.35761   ]\n",
            " [ 10.449552    20.464142  ]\n",
            " [ 10.269867    20.564571  ]\n",
            " [ 10.096971    20.663078  ]\n",
            " [  9.918089    20.771578  ]\n",
            " [  9.744107    20.879292  ]\n",
            " [  9.556431    20.962671  ]\n",
            " [  9.376244    21.066048  ]\n",
            " [  9.191891    21.16703   ]\n",
            " [  9.012042    21.266127  ]\n",
            " [  8.83153     21.35296   ]\n",
            " [  8.649332    21.443266  ]\n",
            " [  8.477546    21.561363  ]\n",
            " [  8.275812    21.615442  ]\n",
            " [  8.101901    21.721968  ]\n",
            " [  7.9090924   21.784044  ]\n",
            " [  7.751927    21.916847  ]\n",
            " [  7.5390844   21.920307  ]\n",
            " [  7.3880663   22.101994  ]\n",
            " [  7.169264    22.104044  ]\n",
            " [  7.027012    22.27407   ]\n",
            " [  6.8029447   22.25573   ]\n",
            " [  6.6412725   22.37948   ]\n",
            " [  6.4465814   22.442715  ]\n",
            " [  6.26732     22.536455  ]\n",
            " [  6.0796103   22.600788  ]\n",
            " [  5.8925233   22.685987  ]\n",
            " [  5.692222    22.752642  ]\n",
            " [  5.4833984   22.84139   ]\n",
            " [  5.2569547   22.922426  ]\n",
            " [  5.041808    23.00128   ]\n",
            " [  4.842215    23.077137  ]\n",
            " [  4.629687    23.154047  ]\n",
            " [  4.413607    23.22972   ]\n",
            " [  4.2007556   23.308289  ]\n",
            " [  3.9850636   23.385326  ]\n",
            " [  3.7678943   23.466286  ]\n",
            " [  3.5543606   23.534435  ]\n",
            " [  3.3426833   23.610153  ]\n",
            " [  3.1397426   23.68158   ]\n",
            " [  2.9407806   23.775257  ]\n",
            " [  2.7309165   23.818274  ]\n",
            " [  2.5289726   23.84557   ]\n",
            " [  2.346065    23.943577  ]\n",
            " [  2.1715126   24.053247  ]\n",
            " [  1.9673358   24.064318  ]\n",
            " [  1.7563372   24.0448    ]\n",
            " [  1.6304308   24.282387  ]\n",
            " [  1.4252423   24.263517  ]\n",
            " [  1.2130028   24.23042   ]\n",
            " [  1.0242257   24.248158  ]\n",
            " [  0.91784716  24.564562  ]\n",
            " [  0.6865502   24.635445  ]\n",
            " [  0.5055869   24.407436  ]\n",
            " [  0.495545    24.378752  ]\n",
            " [  0.32517657  24.651573  ]\n",
            " [  0.10852626  24.668062  ]\n",
            " [ -0.22264649  24.708883  ]\n",
            " [ -0.42557937  24.85906   ]\n",
            " [ -0.5626621   24.84603   ]\n",
            " [ -0.7519874   24.902122  ]\n",
            " [ -1.0051771   24.969824  ]\n",
            " [ -1.2089075   25.021738  ]\n",
            " [ -1.4085188   25.08774   ]\n",
            " [ -1.6192403   25.091667  ]\n",
            " [ -1.808379    25.212467  ]\n",
            " [ -1.9997513   25.233473  ]\n",
            " [ -2.1969602   25.228891  ]\n",
            " [ -2.3820207   25.2438    ]\n",
            " [ -2.5259202   25.421904  ]\n",
            " [ -2.7254267   25.368147  ]\n",
            " [ -2.9013028   25.415033  ]\n",
            " [ -3.0818994   25.456263  ]\n",
            " [ -3.2709718   25.488243  ]\n",
            " [ -3.4715939   25.528664  ]\n",
            " [ -3.6919506   25.580742  ]\n",
            " [ -3.9058511   25.623184  ]\n",
            " [ -4.690229    25.777706  ]\n",
            " [ -4.890851    25.818901  ]\n",
            " [ -5.0966506   25.847538  ]\n",
            " [ -5.3053303   25.893637  ]\n",
            " [ -5.532954    25.926662  ]\n",
            " [ -5.724743    25.974966  ]\n",
            " [ -5.9293303   25.961128  ]\n",
            " [ -6.103804    26.103216  ]\n",
            " [ -6.3159704   26.04799   ]\n",
            " [ -6.490081    26.187138  ]\n",
            " [ -6.7100306   26.034492  ]\n",
            " [ -6.854093    26.294859  ]\n",
            " [ -7.0670633   26.09683   ]\n",
            " [ -7.2143307   26.346407  ]\n",
            " [ -7.4290614   26.149855  ]\n",
            " [ -7.5571795   26.452652  ]\n",
            " [ -7.781613    26.223288  ]\n",
            " [ -7.924946    26.473745  ]\n",
            " [ -8.140449    26.256248  ]\n",
            " [ -8.303353    26.484934  ]\n",
            " [ -8.519897    26.435234  ]\n",
            " [ -8.684062    26.455513  ]\n",
            " [ -8.892391    26.509966  ]\n",
            " [ -9.098681    26.54321   ]\n",
            " [ -9.309565    26.562643  ]\n",
            " [ -9.527146    26.55252   ]\n",
            " [ -9.733592    26.625355  ]\n",
            " [ -9.950119    26.663048  ]\n",
            " [-10.175266    26.668646  ]\n",
            " [-10.385867    26.707453  ]\n",
            " [-10.593876    26.732866  ]\n",
            " [-10.801805    26.781927  ]\n",
            " [-11.013787    26.79926   ]\n",
            " [-11.20873     26.882336  ]\n",
            " [-11.431919    26.809126  ]\n",
            " [-11.617464    26.89116   ]\n",
            " [-11.820121    26.815088  ]\n",
            " [-11.97515     27.045013  ]\n",
            " [-12.192136    26.872663  ]\n",
            " [-12.347939    27.104336  ]\n",
            " [-12.550136    26.936415  ]\n",
            " [-12.707781    27.1458    ]\n",
            " [-12.9264965   26.94672   ]\n",
            " [-13.097953    27.128149  ]\n",
            " [-13.29992     27.12611   ]\n",
            " [-13.495448    27.21104   ]\n",
            " [-13.722786    27.166367  ]\n",
            " [-13.910885    27.288855  ]\n",
            " [-14.143593    27.27808   ]\n",
            " [-14.390914    27.339115  ]\n",
            " [-14.4475565   27.307436  ]\n",
            " [-14.696473    27.361889  ]\n",
            " [-14.927987    27.403257  ]\n",
            " [-15.152843    27.444355  ]\n",
            " [-15.384348    27.488585  ]\n",
            " [-15.604003    27.518051  ]\n",
            " [-15.828426    27.529158  ]\n",
            " [-16.038965    27.601313  ]\n",
            " [-16.23756     27.704239  ]\n",
            " [-16.45616     27.634563  ]\n",
            " [-16.650394    27.584751  ]\n",
            " [-16.792564    27.803978  ]\n",
            " [-16.961773    27.90991   ]\n",
            " [-17.164576    27.65395   ]\n",
            " [-17.31944     27.639648  ]\n",
            " [-17.40863     28.02637   ]\n",
            " [-17.550243    28.074121  ]\n",
            " [-17.758438    27.646006  ]\n",
            " [-17.895607    27.630148  ]\n",
            " [-17.952288    28.158796  ]\n",
            " [-18.082336    28.172739  ]\n",
            " [-18.197346    28.249609  ]\n",
            " [-18.370531    27.662634  ]\n",
            " [-18.485796    27.639141  ]\n",
            " [-18.539045    28.297237  ]\n",
            " [-18.704418    27.6399    ]\n",
            " [-18.74396     28.35806   ]\n",
            " [-18.835472    28.389011  ]\n",
            " [-19.01093     27.71993   ]\n",
            " [-19.109987    27.735504  ]\n",
            " [-19.13546     28.367062  ]\n",
            " [-19.291908    27.840927  ]\n",
            " [-19.333118    28.244894  ]\n",
            " [-19.434784    28.067781  ]]\n"
          ],
          "name": "stdout"
        }
      ]
    },
    {
      "metadata": {
        "id": "3sW3MZokS0_9",
        "colab_type": "code",
        "colab": {
          "base_uri": "https://localhost:8080/",
          "height": 422
        },
        "outputId": "f46a3102-0ca5-4998-8dc8-e46e9475d702"
      },
      "cell_type": "code",
      "source": [
        "import numpy as np\n",
        "from sklearn.manifold import TSNE\n",
        "\n",
        "X = log6.values\n",
        "print( X.shape )\n",
        "X_embedded = TSNE(n_components=2).fit_transform(X)\n",
        "print(X_embedded.shape)\n",
        "\n",
        "plt.figure(1)\n",
        "plt.imshow(X_embedded, cmap='hot')\n",
        "plt.show()\n",
        "print( X_embedded)"
      ],
      "execution_count": 97,
      "outputs": [
        {
          "output_type": "stream",
          "text": [
            "(1672, 110)\n",
            "(1672, 2)\n"
          ],
          "name": "stdout"
        },
        {
          "output_type": "display_data",
          "data": {
            "image/png": "[encoded data removed]",
            "text/plain": [
              "<Figure size 432x288 with 1 Axes>"
            ]
          },
          "metadata": {
            "tags": []
          }
        },
        {
          "output_type": "stream",
          "text": [
            "[[-31.16667   32.782024]\n",
            " [-31.12987   32.74125 ]\n",
            " [-31.141804  32.58889 ]\n",
            " ...\n",
            " [ 47.448338 -32.45124 ]\n",
            " [ 47.4561   -32.458004]\n",
            " [ 47.448963 -32.456635]]\n"
          ],
          "name": "stdout"
        }
      ]
    },
    {
      "metadata": {
        "id": "rV1fwie_T1XS",
        "colab_type": "code",
        "colab": {
          "base_uri": "https://localhost:8080/",
          "height": 422
        },
        "outputId": "cc7c4e2c-770f-4c55-bedc-84e097643483"
      },
      "cell_type": "code",
      "source": [
        "import numpy as np\n",
        "from sklearn.manifold import TSNE\n",
        "\n",
        "X = log7.values\n",
        "print( X.shape )\n",
        "X_embedded = TSNE(n_components=2).fit_transform(X)\n",
        "print(X_embedded.shape)\n",
        "\n",
        "plt.figure(1)\n",
        "plt.imshow(X_embedded, cmap='hot')\n",
        "plt.show()\n",
        "print( X_embedded)"
      ],
      "execution_count": 98,
      "outputs": [
        {
          "output_type": "stream",
          "text": [
            "(1551, 110)\n",
            "(1551, 2)\n"
          ],
          "name": "stdout"
        },
        {
          "output_type": "display_data",
          "data": {
            "image/png": "[encoded data removed]",
            "text/plain": [
              "<Figure size 432x288 with 1 Axes>"
            ]
          },
          "metadata": {
            "tags": []
          }
        },
        {
          "output_type": "stream",
          "text": [
            "[[16.819372  26.427835 ]\n",
            " [16.823807  26.426735 ]\n",
            " [17.19761   26.098701 ]\n",
            " ...\n",
            " [ 5.7039194 59.90594  ]\n",
            " [ 5.5986924 59.820557 ]\n",
            " [ 5.4395776 59.559402 ]]\n"
          ],
          "name": "stdout"
        }
      ]
    },
    {
      "metadata": {
        "id": "hA7ZNicrUuNp",
        "colab_type": "code",
        "colab": {
          "base_uri": "https://localhost:8080/",
          "height": 422
        },
        "outputId": "73735261-c2d9-403e-b517-33ecf97a616b"
      },
      "cell_type": "code",
      "source": [
        "import numpy as np\n",
        "from sklearn.manifold import TSNE\n",
        "\n",
        "X = log7.values\n",
        "print( X.shape )\n",
        "X_embedded = TSNE(n_components=2).fit_transform(X)\n",
        "print(X_embedded.shape)\n",
        "\n",
        "plt.figure(1)\n",
        "plt.imshow(X_embedded, cmap='hot')\n",
        "plt.show()\n",
        "print( X_embedded)"
      ],
      "execution_count": 99,
      "outputs": [
        {
          "output_type": "stream",
          "text": [
            "(1551, 110)\n",
            "(1551, 2)\n"
          ],
          "name": "stdout"
        },
        {
          "output_type": "display_data",
          "data": {
            "image/png": "[encoded data removed]",
            "text/plain": [
              "<Figure size 432x288 with 1 Axes>"
            ]
          },
          "metadata": {
            "tags": []
          }
        },
        {
          "output_type": "stream",
          "text": [
            "[[ 44.428017  -27.71063  ]\n",
            " [ 44.417362  -27.712925 ]\n",
            " [ 44.012245  -27.40981  ]\n",
            " ...\n",
            " [-35.53325     7.9915795]\n",
            " [-35.72704     7.726339 ]\n",
            " [-35.701687    7.9353404]]\n"
          ],
          "name": "stdout"
        }
      ]
    }
  ]
}